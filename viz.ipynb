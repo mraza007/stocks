{
 "cells": [
  {
   "cell_type": "code",
   "execution_count": 2,
   "metadata": {},
   "outputs": [],
   "source": [
    "import plotly.plotly\n",
    "import plotly.graph_objs as go\n",
    "# import plotly.figure_factory as ff\n",
    "import pandas as pd"
   ]
  },
  {
   "cell_type": "code",
   "execution_count": 12,
   "metadata": {},
   "outputs": [
    {
     "data": {
      "text/html": [
       "<script type=\"text/javascript\">window.PlotlyConfig = {MathJaxConfig: 'local'};</script><script type=\"text/javascript\">if (window.MathJax) {MathJax.Hub.Config({SVG: {font: \"STIX-Web\"}});}</script><script>requirejs.config({paths: { 'plotly': ['https://cdn.plot.ly/plotly-latest.min']},});if(!window._Plotly) {require(['plotly'],function(plotly) {window._Plotly=plotly;});}</script>"
      ],
      "text/vnd.plotly.v1+html": [
       "<script type=\"text/javascript\">window.PlotlyConfig = {MathJaxConfig: 'local'};</script><script type=\"text/javascript\">if (window.MathJax) {MathJax.Hub.Config({SVG: {font: \"STIX-Web\"}});}</script><script>requirejs.config({paths: { 'plotly': ['https://cdn.plot.ly/plotly-latest.min']},});if(!window._Plotly) {require(['plotly'],function(plotly) {window._Plotly=plotly;});}</script>"
      ]
     },
     "metadata": {},
     "output_type": "display_data"
    },
    {
     "data": {
      "text/html": [
       "<div>\n",
       "<style scoped>\n",
       "    .dataframe tbody tr th:only-of-type {\n",
       "        vertical-align: middle;\n",
       "    }\n",
       "\n",
       "    .dataframe tbody tr th {\n",
       "        vertical-align: top;\n",
       "    }\n",
       "\n",
       "    .dataframe thead th {\n",
       "        text-align: right;\n",
       "    }\n",
       "</style>\n",
       "<table border=\"1\" class=\"dataframe\">\n",
       "  <thead>\n",
       "    <tr style=\"text-align: right;\">\n",
       "      <th></th>\n",
       "      <th>Date</th>\n",
       "      <th>Open</th>\n",
       "      <th>High</th>\n",
       "      <th>Low</th>\n",
       "      <th>Close</th>\n",
       "      <th>Adj Close</th>\n",
       "      <th>Volume</th>\n",
       "    </tr>\n",
       "  </thead>\n",
       "  <tbody>\n",
       "    <tr>\n",
       "      <th>0</th>\n",
       "      <td>2018-12-03</td>\n",
       "      <td>184.460007</td>\n",
       "      <td>184.940002</td>\n",
       "      <td>181.210007</td>\n",
       "      <td>184.820007</td>\n",
       "      <td>184.820007</td>\n",
       "      <td>40802500</td>\n",
       "    </tr>\n",
       "    <tr>\n",
       "      <th>1</th>\n",
       "      <td>2018-12-04</td>\n",
       "      <td>180.949997</td>\n",
       "      <td>182.389999</td>\n",
       "      <td>176.270004</td>\n",
       "      <td>176.690002</td>\n",
       "      <td>176.690002</td>\n",
       "      <td>41344300</td>\n",
       "    </tr>\n",
       "    <tr>\n",
       "      <th>2</th>\n",
       "      <td>2018-12-06</td>\n",
       "      <td>171.759995</td>\n",
       "      <td>174.779999</td>\n",
       "      <td>170.419998</td>\n",
       "      <td>174.720001</td>\n",
       "      <td>174.720001</td>\n",
       "      <td>43098400</td>\n",
       "    </tr>\n",
       "    <tr>\n",
       "      <th>3</th>\n",
       "      <td>2018-12-07</td>\n",
       "      <td>173.490005</td>\n",
       "      <td>174.490005</td>\n",
       "      <td>168.300003</td>\n",
       "      <td>168.490005</td>\n",
       "      <td>168.490005</td>\n",
       "      <td>42281600</td>\n",
       "    </tr>\n",
       "    <tr>\n",
       "      <th>4</th>\n",
       "      <td>2018-12-10</td>\n",
       "      <td>165.000000</td>\n",
       "      <td>170.089996</td>\n",
       "      <td>163.330002</td>\n",
       "      <td>169.600006</td>\n",
       "      <td>169.600006</td>\n",
       "      <td>62026000</td>\n",
       "    </tr>\n",
       "  </tbody>\n",
       "</table>\n",
       "</div>"
      ],
      "text/plain": [
       "         Date        Open        High         Low       Close   Adj Close  \\\n",
       "0  2018-12-03  184.460007  184.940002  181.210007  184.820007  184.820007   \n",
       "1  2018-12-04  180.949997  182.389999  176.270004  176.690002  176.690002   \n",
       "2  2018-12-06  171.759995  174.779999  170.419998  174.720001  174.720001   \n",
       "3  2018-12-07  173.490005  174.490005  168.300003  168.490005  168.490005   \n",
       "4  2018-12-10  165.000000  170.089996  163.330002  169.600006  169.600006   \n",
       "\n",
       "     Volume  \n",
       "0  40802500  \n",
       "1  41344300  \n",
       "2  43098400  \n",
       "3  42281600  \n",
       "4  62026000  "
      ]
     },
     "execution_count": 12,
     "metadata": {},
     "output_type": "execute_result"
    }
   ],
   "source": [
    "plotly.offline.init_notebook_mode(connected=True)\n",
    "df = pd.read_csv('AAPL.csv')\n",
    "df.head()\n",
    "# dates = df['Date']\n",
    "# high = df['High']\n",
    "# low = df['Low']\n",
    "# df.shape\n",
    "# df.describe()"
   ]
  },
  {
   "cell_type": "code",
   "execution_count": 8,
   "metadata": {},
   "outputs": [
    {
     "data": {
      "application/vnd.plotly.v1+json": {
       "config": {
        "linkText": "Export to plot.ly",
        "plotlyServerURL": "https://plot.ly",
        "showLink": true
       },
       "data": [
        {
         "type": "scatter",
         "uid": "899391c6-078f-4285-ac03-3e7c2d366d38",
         "x": [
          "2018-12-03",
          "2018-12-04",
          "2018-12-06",
          "2018-12-07",
          "2018-12-10",
          "2018-12-11",
          "2018-12-12",
          "2018-12-13",
          "2018-12-14",
          "2018-12-17",
          "2018-12-18",
          "2018-12-19",
          "2018-12-20",
          "2018-12-21",
          "2018-12-24",
          "2018-12-26",
          "2018-12-27",
          "2018-12-28",
          "2018-12-31",
          "2019-01-02",
          "2019-01-03"
         ],
         "y": [
          184.940002,
          182.389999,
          174.779999,
          174.490005,
          170.08999599999999,
          171.78999299999998,
          171.919998,
          172.570007,
          169.080002,
          168.350006,
          167.529999,
          167.449997,
          162.110001,
          158.16000400000001,
          151.550003,
          157.229996,
          156.770004,
          158.520004,
          159.360001,
          158.850006,
          145.720001
         ]
        }
       ],
       "layout": {
        "title": "hello world"
       }
      },
      "text/html": [
       "<div id=\"facddb4f-eb61-471d-a17b-e4b69602712d\" style=\"height: 525px; width: 100%;\" class=\"plotly-graph-div\"></div><script type=\"text/javascript\">require([\"plotly\"], function(Plotly) { window.PLOTLYENV=window.PLOTLYENV || {};window.PLOTLYENV.BASE_URL=\"https://plot.ly\";Plotly.newPlot(\"facddb4f-eb61-471d-a17b-e4b69602712d\", [{\"x\": [\"2018-12-03\", \"2018-12-04\", \"2018-12-06\", \"2018-12-07\", \"2018-12-10\", \"2018-12-11\", \"2018-12-12\", \"2018-12-13\", \"2018-12-14\", \"2018-12-17\", \"2018-12-18\", \"2018-12-19\", \"2018-12-20\", \"2018-12-21\", \"2018-12-24\", \"2018-12-26\", \"2018-12-27\", \"2018-12-28\", \"2018-12-31\", \"2019-01-02\", \"2019-01-03\"], \"y\": [184.940002, 182.389999, 174.779999, 174.490005, 170.08999599999999, 171.78999299999998, 171.919998, 172.570007, 169.080002, 168.350006, 167.529999, 167.449997, 162.110001, 158.16000400000001, 151.550003, 157.229996, 156.770004, 158.520004, 159.360001, 158.850006, 145.720001], \"type\": \"scatter\", \"uid\": \"5e1c2d0c-664b-4786-83c8-fffc72118cf0\"}], {\"title\": \"hello world\"}, {\"showLink\": true, \"linkText\": \"Export to plot.ly\", \"plotlyServerURL\": \"https://plot.ly\"})});</script><script type=\"text/javascript\">window.addEventListener(\"resize\", function(){window._Plotly.Plots.resize(document.getElementById(\"facddb4f-eb61-471d-a17b-e4b69602712d\"));});</script>"
      ],
      "text/vnd.plotly.v1+html": [
       "<div id=\"facddb4f-eb61-471d-a17b-e4b69602712d\" style=\"height: 525px; width: 100%;\" class=\"plotly-graph-div\"></div><script type=\"text/javascript\">require([\"plotly\"], function(Plotly) { window.PLOTLYENV=window.PLOTLYENV || {};window.PLOTLYENV.BASE_URL=\"https://plot.ly\";Plotly.newPlot(\"facddb4f-eb61-471d-a17b-e4b69602712d\", [{\"x\": [\"2018-12-03\", \"2018-12-04\", \"2018-12-06\", \"2018-12-07\", \"2018-12-10\", \"2018-12-11\", \"2018-12-12\", \"2018-12-13\", \"2018-12-14\", \"2018-12-17\", \"2018-12-18\", \"2018-12-19\", \"2018-12-20\", \"2018-12-21\", \"2018-12-24\", \"2018-12-26\", \"2018-12-27\", \"2018-12-28\", \"2018-12-31\", \"2019-01-02\", \"2019-01-03\"], \"y\": [184.940002, 182.389999, 174.779999, 174.490005, 170.08999599999999, 171.78999299999998, 171.919998, 172.570007, 169.080002, 168.350006, 167.529999, 167.449997, 162.110001, 158.16000400000001, 151.550003, 157.229996, 156.770004, 158.520004, 159.360001, 158.850006, 145.720001], \"type\": \"scatter\", \"uid\": \"5e1c2d0c-664b-4786-83c8-fffc72118cf0\"}], {\"title\": \"hello world\"}, {\"showLink\": true, \"linkText\": \"Export to plot.ly\", \"plotlyServerURL\": \"https://plot.ly\"})});</script><script type=\"text/javascript\">window.addEventListener(\"resize\", function(){window._Plotly.Plots.resize(document.getElementById(\"facddb4f-eb61-471d-a17b-e4b69602712d\"));});</script>"
      ]
     },
     "metadata": {},
     "output_type": "display_data"
    }
   ],
   "source": [
    "plotly.offline.iplot({\n",
    "    \"data\": [go.Scatter(x=dates ,y=high)],\n",
    "    \"layout\": go.Layout(title=\"hello world\")\n",
    "})"
   ]
  },
  {
   "cell_type": "code",
   "execution_count": 9,
   "metadata": {},
   "outputs": [
    {
     "data": {
      "application/vnd.plotly.v1+json": {
       "config": {
        "linkText": "Export to plot.ly",
        "plotlyServerURL": "https://plot.ly",
        "showLink": true
       },
       "data": [
        {
         "type": "scatter",
         "uid": "e46d3c16-e9bb-4fdd-b34e-5ee73c2d1a25",
         "x": [
          "2018-12-03",
          "2018-12-04",
          "2018-12-06",
          "2018-12-07",
          "2018-12-10",
          "2018-12-11",
          "2018-12-12",
          "2018-12-13",
          "2018-12-14",
          "2018-12-17",
          "2018-12-18",
          "2018-12-19",
          "2018-12-20",
          "2018-12-21",
          "2018-12-24",
          "2018-12-26",
          "2018-12-27",
          "2018-12-28",
          "2018-12-31",
          "2019-01-02",
          "2019-01-03"
         ],
         "y": [
          181.21000700000002,
          176.270004,
          170.419998,
          168.300003,
          163.330002,
          167,
          169.020004,
          169.550003,
          165.279999,
          162.729996,
          164.389999,
          159.08999599999999,
          155.300003,
          149.630005,
          146.58999599999999,
          146.720001,
          150.070007,
          154.550003,
          156.479996,
          154.229996,
          142
         ]
        }
       ],
       "layout": {
        "title": "hello world"
       }
      },
      "text/html": [
       "<div id=\"1d66b5ff-e451-4821-9eb7-78c43ec57fa4\" style=\"height: 525px; width: 100%;\" class=\"plotly-graph-div\"></div><script type=\"text/javascript\">require([\"plotly\"], function(Plotly) { window.PLOTLYENV=window.PLOTLYENV || {};window.PLOTLYENV.BASE_URL=\"https://plot.ly\";Plotly.newPlot(\"1d66b5ff-e451-4821-9eb7-78c43ec57fa4\", [{\"x\": [\"2018-12-03\", \"2018-12-04\", \"2018-12-06\", \"2018-12-07\", \"2018-12-10\", \"2018-12-11\", \"2018-12-12\", \"2018-12-13\", \"2018-12-14\", \"2018-12-17\", \"2018-12-18\", \"2018-12-19\", \"2018-12-20\", \"2018-12-21\", \"2018-12-24\", \"2018-12-26\", \"2018-12-27\", \"2018-12-28\", \"2018-12-31\", \"2019-01-02\", \"2019-01-03\"], \"y\": [181.21000700000002, 176.270004, 170.419998, 168.300003, 163.330002, 167.0, 169.020004, 169.550003, 165.279999, 162.729996, 164.389999, 159.08999599999999, 155.300003, 149.630005, 146.58999599999999, 146.720001, 150.070007, 154.550003, 156.479996, 154.229996, 142.0], \"type\": \"scatter\", \"uid\": \"972ed421-a4ce-4e61-baf3-e11b6cc1f394\"}], {\"title\": \"hello world\"}, {\"showLink\": true, \"linkText\": \"Export to plot.ly\", \"plotlyServerURL\": \"https://plot.ly\"})});</script><script type=\"text/javascript\">window.addEventListener(\"resize\", function(){window._Plotly.Plots.resize(document.getElementById(\"1d66b5ff-e451-4821-9eb7-78c43ec57fa4\"));});</script>"
      ],
      "text/vnd.plotly.v1+html": [
       "<div id=\"1d66b5ff-e451-4821-9eb7-78c43ec57fa4\" style=\"height: 525px; width: 100%;\" class=\"plotly-graph-div\"></div><script type=\"text/javascript\">require([\"plotly\"], function(Plotly) { window.PLOTLYENV=window.PLOTLYENV || {};window.PLOTLYENV.BASE_URL=\"https://plot.ly\";Plotly.newPlot(\"1d66b5ff-e451-4821-9eb7-78c43ec57fa4\", [{\"x\": [\"2018-12-03\", \"2018-12-04\", \"2018-12-06\", \"2018-12-07\", \"2018-12-10\", \"2018-12-11\", \"2018-12-12\", \"2018-12-13\", \"2018-12-14\", \"2018-12-17\", \"2018-12-18\", \"2018-12-19\", \"2018-12-20\", \"2018-12-21\", \"2018-12-24\", \"2018-12-26\", \"2018-12-27\", \"2018-12-28\", \"2018-12-31\", \"2019-01-02\", \"2019-01-03\"], \"y\": [181.21000700000002, 176.270004, 170.419998, 168.300003, 163.330002, 167.0, 169.020004, 169.550003, 165.279999, 162.729996, 164.389999, 159.08999599999999, 155.300003, 149.630005, 146.58999599999999, 146.720001, 150.070007, 154.550003, 156.479996, 154.229996, 142.0], \"type\": \"scatter\", \"uid\": \"972ed421-a4ce-4e61-baf3-e11b6cc1f394\"}], {\"title\": \"hello world\"}, {\"showLink\": true, \"linkText\": \"Export to plot.ly\", \"plotlyServerURL\": \"https://plot.ly\"})});</script><script type=\"text/javascript\">window.addEventListener(\"resize\", function(){window._Plotly.Plots.resize(document.getElementById(\"1d66b5ff-e451-4821-9eb7-78c43ec57fa4\"));});</script>"
      ]
     },
     "metadata": {},
     "output_type": "display_data"
    }
   ],
   "source": [
    "plotly.offline.iplot({\n",
    "    \"data\": [go.Scatter(x=dates ,y=low)],\n",
    "    \"layout\": go.Layout(title=\"hello world\")\n",
    "})"
   ]
  }
 ],
 "metadata": {
  "kernelspec": {
   "display_name": "Python 3",
   "language": "python",
   "name": "python3"
  },
  "language_info": {
   "codemirror_mode": {
    "name": "ipython",
    "version": 3
   },
   "file_extension": ".py",
   "mimetype": "text/x-python",
   "name": "python",
   "nbconvert_exporter": "python",
   "pygments_lexer": "ipython3",
   "version": "3.6.7"
  }
 },
 "nbformat": 4,
 "nbformat_minor": 2
}
